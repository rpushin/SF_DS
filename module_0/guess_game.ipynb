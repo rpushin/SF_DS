{
 "cells": [
  {
   "cell_type": "code",
   "execution_count": 4,
   "metadata": {},
   "outputs": [
    {
     "name": "stdout",
     "output_type": "stream",
     "text": [
      "Ваш алгоритм угадывает число в среднем за 5 попыток\n"
     ]
    },
    {
     "data": {
      "text/plain": [
       "5"
      ]
     },
     "execution_count": 4,
     "metadata": {},
     "output_type": "execute_result"
    }
   ],
   "source": [
    "import numpy as np\n",
    "\n",
    "\n",
    "def game_core_v2(number, borders = (1, 100)):\n",
    "    #Функция запрашиваем загаданное число и границы, \n",
    "    #узнаёт левее или правее границы загаданное и вызываемся рекурсивно на уполовиненном множестве\n",
    "    predict = int((borders[0] + borders[1])/2) #предикт - середина множества\n",
    "    ret = 0\n",
    "    if predict > number: #если не угадали то уходим на уровень вглубь рекурсии, на каждом уровне рет будет увеличиваться на 1\n",
    "        ret = game_core_v2(number, (borders[0], predict - 1)) \n",
    "    elif predict < number:\n",
    "        ret = game_core_v2(number, (predict + 1, borders[1]))\n",
    "    ret +=1 #Если угадали - условия выполняются, и возвращаем 1 \n",
    "    return ret #за каждый уровень рекурсии рет увеличивается на 1 - что соответствует\n",
    "\n",
    "def score_game(game_core):\n",
    "    \"\"\"Запускаем игру 1000 раз, чтобы узнать, как быстро игра угадывает число\"\"\"\n",
    "    count_ls = []\n",
    "    np.random.seed(1)  # фиксируем RANDOM SEED, чтобы ваш эксперимент был воспроизводим!\n",
    "    random_array = np.random.randint(1,101, size=(1000))\n",
    "    for number in random_array:\n",
    "        count_ls.append(game_core(number))\n",
    "    score = int(np.mean(count_ls))\n",
    "    print(f\"Ваш алгоритм угадывает число в среднем за {score} попыток\")\n",
    "    return(score)\n",
    "\n",
    "score_game(game_core_v2)"
   ]
  }
 ],
 "metadata": {
  "kernelspec": {
   "display_name": "Python 3",
   "language": "python",
   "name": "python3"
  },
  "language_info": {
   "codemirror_mode": {
    "name": "ipython",
    "version": 3
   },
   "file_extension": ".py",
   "mimetype": "text/x-python",
   "name": "python",
   "nbconvert_exporter": "python",
   "pygments_lexer": "ipython3",
   "version": "3.8.5"
  }
 },
 "nbformat": 4,
 "nbformat_minor": 4
}
