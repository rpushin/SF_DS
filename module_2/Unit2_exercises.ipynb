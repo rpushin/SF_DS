{
 "cells": [
  {
   "cell_type": "code",
   "execution_count": 6,
   "metadata": {},
   "outputs": [
    {
     "data": {
      "text/plain": [
       "array([ 5,  6,  7,  8,  9, 10], dtype=int64)"
      ]
     },
     "execution_count": 6,
     "metadata": {},
     "output_type": "execute_result"
    }
   ],
   "source": [
    "import numpy as np\n",
    "import pandas as pd\n",
    "my_series = pd.Series([5, 6, 7, 8, 9, 10])\n",
    "my_series.values"
   ]
  },
  {
   "cell_type": "code",
   "execution_count": 7,
   "metadata": {},
   "outputs": [
    {
     "data": {
      "text/plain": [
       "array([[  1. ,  57. ,  71. , 127. , 141. , 197. , 211. , 267. , 281. ],\n",
       "       [  0.5,  28.5,  35.5,  63.5,  70.5,  98.5, 105.5, 133.5, 140.5],\n",
       "       [-99. , -43. , -29. ,  27. ,  41. ,  97. , 111. , 167. , 181. ]])"
      ]
     },
     "execution_count": 7,
     "metadata": {},
     "output_type": "execute_result"
    }
   ],
   "source": [
    "my_secret = [x for x in range(1, 301, 7) if x%10 == 7 or x%10 == 1]\n",
    "np.array([my_secret, [x/2 for x in my_secret], [x-100 for x in my_secret]])"
   ]
  },
  {
   "cell_type": "code",
   "execution_count": 8,
   "metadata": {},
   "outputs": [
    {
     "data": {
      "text/plain": [
       "array([1, 3, 5, 7, 9])"
      ]
     },
     "execution_count": 8,
     "metadata": {},
     "output_type": "execute_result"
    }
   ],
   "source": [
    "np.array([i for i in range(11) if i%2])"
   ]
  },
  {
   "cell_type": "code",
   "execution_count": 37,
   "metadata": {},
   "outputs": [
    {
     "name": "stdout",
     "output_type": "stream",
     "text": [
      "3154.332495807108\n",
      "121.37188663699624\n",
      "341505315559.2347\n",
      "-1.0\n",
      "-1.0\n"
     ]
    }
   ],
   "source": [
    "first_line = [x*y for x in range(2, 100, 6) for y in range (7, 1, -2)]\n",
    "second_line = [x ** 0.5 for x in range(1000, 1101, 2)]\n",
    "third_line = [x**2 for x in range(51)]\n",
    "\n",
    "big_secret = np.array([first_line, second_line, third_line, second_line, first_line])\n",
    "sm = 0\n",
    "for _ in big_secret:\n",
    "    sm += _[-1]\n",
    "print(sm)\n",
    "main = 0\n",
    "small_secret = big_secret[:][:5]\n",
    "for i in range(len(small_secret)):\n",
    "    main += small_secret[i][i]\n",
    "print(main)\n",
    "main_prod = 1\n",
    "small_secret = big_secret[:,-5:]\n",
    "for i in range(len(small_secret)):\n",
    "    main_prod *= small_secret[i][i]\n",
    "# print(small_secret)\n",
    "print(main_prod)\n",
    "small_secret = big_secret[1::2,1::2]\n",
    "small_secret[:] = 1\n",
    "small_secret = big_secret[0::2,0::2]\n",
    "small_secret[:] = -1\n",
    "main = 0\n",
    "small_secret = big_secret[:][:5]\n",
    "for i in range(len(small_secret)):\n",
    "    main += small_secret[i][i]\n",
    "print(main)\n",
    "main_prod = 1\n",
    "small_secret = big_secret[:,-5:]\n",
    "for i in range(len(small_secret)):\n",
    "    main_prod *= small_secret[i][i]\n",
    "# print(small_secret)\n",
    "print(main_prod)"
   ]
  },
  {
   "cell_type": "code",
   "execution_count": 43,
   "metadata": {},
   "outputs": [
    {
     "name": "stdout",
     "output_type": "stream",
     "text": [
      "100\n",
      "0.16006721889793019\n",
      "5470.0\n",
      "7.0710678118654755\n",
      "115.12148016521353\n"
     ]
    }
   ],
   "source": [
    "first = [x**(1/2) for x in range(100)]\n",
    "second = [x**(1/3) for x in range(100, 200)]\n",
    "third = [x/y for x in range(200,300,2) for y in [3,5]]\n",
    "\n",
    "great_secret = np.array([first, second, third]).T\n",
    "print(len(great_secret))\n",
    "print(np.sum(np.cos(great_secret[0])))\n",
    "print(np.sum(great_secret[great_secret>50]))\n",
    "print(great_secret.flatten()[150])\n",
    "print(np.sum(np.sort(great_secret, axis = 0)[-1]))"
   ]
  },
  {
   "cell_type": "code",
   "execution_count": 54,
   "metadata": {},
   "outputs": [
    {
     "data": {
      "text/plain": [
       "42.0"
      ]
     },
     "metadata": {},
     "output_type": "display_data"
    },
    {
     "data": {
      "text/plain": [
       "1.7999999999999972"
      ]
     },
     "metadata": {},
     "output_type": "display_data"
    },
    {
     "data": {
      "text/plain": [
       "array([[1.        , 0.64314431],\n",
       "       [0.64314431, 1.        ]])"
      ]
     },
     "metadata": {},
     "output_type": "display_data"
    },
    {
     "data": {
      "text/plain": [
       "array([[1.        , 0.46293714],\n",
       "       [0.46293714, 1.        ]])"
      ]
     },
     "metadata": {},
     "output_type": "display_data"
    },
    {
     "data": {
      "text/plain": [
       "array([[1.        , 0.29801325],\n",
       "       [0.29801325, 1.        ]])"
      ]
     },
     "metadata": {},
     "output_type": "display_data"
    },
    {
     "data": {
      "text/plain": [
       "0.4517742799230607"
      ]
     },
     "metadata": {},
     "output_type": "display_data"
    },
    {
     "data": {
      "text/plain": [
       "60.36"
      ]
     },
     "metadata": {},
     "output_type": "display_data"
    }
   ],
   "source": [
    "_id = [x for x in range(1,11)]\n",
    "_height =[135,160,163,147,138,149,136,154,137,165]\n",
    "_mass = [34,43,40,44,41,54,39,48,35,60]\n",
    "_gradeav = [4,5,4.3,5,4.7,3.9,4.2,4.9,3.7,4.6]\n",
    "students = np.array([_id,_height,_mass,_gradeav]).T\n",
    "display(np.median(students[:,-2]))\n",
    "display(np.mean(students[:,-2]) - np.median(students[:,-2]))\n",
    "display(np.corrcoef(students[:,1], students[:,2]))\n",
    "display(np.corrcoef(students[:,1], students[:,3]))\n",
    "display(np.corrcoef(students[:,2], students[:,3]))\n",
    "display( np.std(students[:,-1]))\n",
    "display( pow(np.std(students[:,-2]),2))"
   ]
  },
  {
   "cell_type": "code",
   "execution_count": 65,
   "metadata": {
    "scrolled": true
   },
   "outputs": [
    {
     "data": {
      "text/plain": [
       "-0.05812430261413351"
      ]
     },
     "metadata": {},
     "output_type": "display_data"
    },
    {
     "data": {
      "text/plain": [
       "7.571718421269144"
      ]
     },
     "metadata": {},
     "output_type": "display_data"
    },
    {
     "data": {
      "text/plain": [
       "2.4057172058139544"
      ]
     },
     "metadata": {},
     "output_type": "display_data"
    }
   ],
   "source": [
    "my_array = np.array([[1,2,3,4,5],\n",
    "                     [6,7,8,9,10],\n",
    "                     [11,12,13,14,15],\n",
    "                     [16,17,18,19,20],\n",
    "                     [21,22,23,24,25]])\n",
    "my_sin = np.sin(my_array)\n",
    "display(np.sum(my_sin))\n",
    "my_sin[1:4,1:4]=1\n",
    "display(np.sum(my_sin))\n",
    "resh = my_sin[:,:-1].reshape((10,2))\n",
    "display(np.sum(resh[:,0]))"
   ]
  },
  {
   "cell_type": "code",
   "execution_count": 74,
   "metadata": {},
   "outputs": [
    {
     "data": {
      "text/plain": [
       "302501.0"
      ]
     },
     "metadata": {},
     "output_type": "display_data"
    },
    {
     "data": {
      "text/plain": [
       "292095.0301991155"
      ]
     },
     "metadata": {},
     "output_type": "display_data"
    },
    {
     "data": {
      "text/plain": [
       "array([[1.        , 0.99999973],\n",
       "       [0.99999973, 1.        ]])"
      ]
     },
     "metadata": {},
     "output_type": "display_data"
    }
   ],
   "source": [
    "my_array = np.array([x*x for x in range(100,1001) if x%2])\n",
    "display(np.median(my_array))\n",
    "display(np.std(my_array))\n",
    "display(np.corrcoef(my_array[1::2], my_array[::2]))"
   ]
  },
  {
   "cell_type": "code",
   "execution_count": 87,
   "metadata": {},
   "outputs": [
    {
     "data": {
      "text/plain": [
       "<AxesSubplot:xlabel='sex,smoker'>"
      ]
     },
     "execution_count": 87,
     "metadata": {},
     "output_type": "execute_result"
    },
    {
     "data": {
      "image/png": "[encoded data removed]",
      "text/plain": [
       "<Figure size 432x288 with 1 Axes>"
      ]
     },
     "metadata": {
      "needs_background": "light"
     },
     "output_type": "display_data"
    }
   ],
   "source": [
    "df = pd.read_csv('tips.csv')\n",
    "# df.plot()\n",
    "# df['total_bill'].plot(kind = 'hist', grid = True, title = 'Общая сумма счёта')\n",
    "# df['day'].value_counts().plot(kind = 'bar', \n",
    "#                               grid = True, \n",
    "#                               colormap = 'coolwarm', \n",
    "#                               title = 'Количество посетителей по дням')\n",
    "# df.plot(x = 'total_bill', \n",
    "#         y = 'tip', \n",
    "#         kind = 'scatter', \n",
    "#         grid = True, \n",
    "#         title = 'Общая сумма счёта Vs сумма чаевых')\n",
    "df.pivot_table(values = ['total_bill', 'tip'], \n",
    "               index = 'day', \n",
    "               aggfunc = 'mean')\n",
    "df.pivot_table(values = 'tip', index = ['sex', 'smoker'], aggfunc = 'count').plot(kind = 'bar')"
   ]
  },
  {
   "cell_type": "code",
   "execution_count": 100,
   "metadata": {},
   "outputs": [
    {
     "data": {
      "text/plain": [
       "<matplotlib.legend.Legend at 0x1b4a30f4880>"
      ]
     },
     "execution_count": 100,
     "metadata": {},
     "output_type": "execute_result"
    },
    {
     "data": {
      "image/png": "[encoded data removed]",
      "text/plain": [
       "<Figure size 432x288 with 1 Axes>"
      ]
     },
     "metadata": {
      "needs_background": "light"
     },
     "output_type": "display_data"
    }
   ],
   "source": [
    "import matplotlib.pyplot as plt\n",
    "%matplotlib inline\n",
    "\n",
    "df = pd.read_csv('tips.csv')\n",
    "\n",
    "# fig = plt.figure()\n",
    "# axes = fig.add_axes([0, 0, 1, 2])\n",
    "# axes.hist(df['total_bill'], bins = 20, color = 'green')\n",
    "# axes.set_title('Общая сумма счета')\n",
    "# axes.set_ylabel('Количество заказов')\n",
    "# axes.set_xlabel('Сумма заказа, USD')\n",
    "\n",
    "bills_per_day = df.groupby(by = 'day')['total_bill'].agg(['min','max']).reset_index()\n",
    "# fig = plt.figure()\n",
    "# main_axes = fig.add_axes([0, 0, 1, 1])\n",
    "# main_axes.hist(df['total_bill'])\n",
    "# insert_axes = fig.add_axes([0.6, 0.6, 0.38, 0.38])\n",
    "# insert_axes.bar(x = bills_per_day['day'], height = bills_per_day['max'], \n",
    "#                 width = 0.4, align = 'edge')\n",
    "# insert_axes.bar(x = bills_per_day['day'], height = bills_per_day['min'], \n",
    "#                 width = -0.4, align = 'edge')\n",
    "\n",
    "fig = plt.figure()\n",
    "axes = fig.add_axes([0, 0, 1, 1])\n",
    "axes.set_ylim(0, 60)\n",
    "axes.bar(x = bills_per_day['day'], height = bills_per_day['max'], \n",
    "                width = 0.4, align = 'edge', label = 'Максимальная сумма чека')\n",
    "axes.bar(x = bills_per_day['day'], height = bills_per_day['min'], \n",
    "                width = -0.4, align = 'edge', label = 'Минимальная сумма чека')\n",
    "axes.legend(loc = 1)"
   ]
  },
  {
   "cell_type": "code",
   "execution_count": null,
   "metadata": {},
   "outputs": [],
   "source": []
  }
 ],
 "metadata": {
  "kernelspec": {
   "display_name": "Python 3",
   "language": "python",
   "name": "python3"
  },
  "language_info": {
   "codemirror_mode": {
    "name": "ipython",
    "version": 3
   },
   "file_extension": ".py",
   "mimetype": "text/x-python",
   "name": "python",
   "nbconvert_exporter": "python",
   "pygments_lexer": "ipython3",
   "version": "3.8.5"
  }
 },
 "nbformat": 4,
 "nbformat_minor": 4
}
